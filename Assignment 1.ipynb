{
 "cells": [
  {
   "cell_type": "markdown",
   "metadata": {},
   "source": [
    "# \n",
    "1.What are the difference between operators and values in the following?\n",
    "\n",
    "*\n",
    "'hello'\n",
    "-87.8\n",
    "-\n",
    "/\n",
    "+\n",
    "6\n",
    "\n",
    "sol:\n",
    "operators are used to perform the operations between the Mathematical expressions,where  *,-,/,+  are the operators that given in the question.\n",
    "\n",
    "values are the data that assign to the particular variable it may be string,float,integer\n",
    "'hello' is a string that which can be assigned to variable like\n",
    "A='hello'\n",
    "\n",
    "-87.8 is float value which can be used as a value in particualr set of code.\n",
    "\n",
    "6 is a integer which can be also a value.\n",
    "\n",
    "\n",
    "\n",
    "\n"
   ]
  },
  {
   "cell_type": "markdown",
   "metadata": {},
   "source": [
    " 2. What is the difference between string and variable?\n",
    " spam\n",
    "'spam'\n",
    "\n",
    "variable  is said to be a storage of information where string is type of info or data that store in variable\n",
    "A string is enclosed in single quote('') or double quote(\"\") or triple quote(\"\"\" \"\"\")\n"
   ]
  },
  {
   "cell_type": "code",
   "execution_count": 25,
   "metadata": {},
   "outputs": [
    {
     "data": {
      "text/plain": [
       "str"
      ]
     },
     "execution_count": 25,
     "metadata": {},
     "output_type": "execute_result"
    }
   ],
   "source": [
    "\n",
    "spam='spam'\n",
    "spam\n",
    "type(spam)\n",
    "\n",
    "#where spam is a variable and 'spam' is a string."
   ]
  },
  {
   "cell_type": "markdown",
   "metadata": {},
   "source": [
    "3. Describe three different data forms.\n",
    "sol:\n",
    "    Numeric,sequence type and boolean are the three data forms in python\n",
    "    \n",
    "    #Numeric data type\n",
    "    represents the numeric value as a data.it can be integer,floating number and even complex number.\n",
    "    The values are defined as int,float and complex in python\n",
    "    \n",
    "    integer:Integer may contains positive or negative numbers.In python there is no limit for length of the integer.\n",
    "    EX:2,4,-5,-9\n",
    "    \n",
    "    float:float class is a representation of real numbers with floating point.\n",
    "    EX:2.4,-4.6,-0.567\n",
    "    \n",
    "    complex numbers:complex numbers are the combination of real and imaginary numbers.\n",
    "    EX:2+3j,6+7j,-3-8j\n",
    "        \n",
    "        \n",
    "    #Sequence type:\n",
    "    sequence type further divided into three data forms\n",
    "        they are string,tuple,list\n",
    "    \n",
    "    String:A string is a collection of one or more characters which incliuded whithin the single quote,double quote or triple\n",
    "        quote.there is no character datatype in python.A character is a string of length one and that is represented by str.\n",
    "    EX:\"I NEURON\",\"\"\"SUNIL KUMAR\"\"\",\"34AF\"\n",
    "        \n",
    "    Tuple:Python Tuple is used to store the sequence of immutable Python objects. The tuple is similar to lists since the value of \n",
    "         the items stored in the list can be changed, whereas the tuple is immutable,and the value of the items stored in the tuple \n",
    "         cannot be changed.\n",
    "    EX:\n",
    "        Creating a empty tuple\n",
    "        tuple=()\n",
    "        tuple1=(3,\"numpy\",\"scipy\")\n",
    "    List:list is a data structure in python that is mutable,changeble,ordered sequence of elements.\n",
    "         Each element or value that is inside of a list is called an item.just as strings defined as characters between quotes.\n",
    "         list are defined by using []\n",
    "    EX:\n",
    "        list=[]\n",
    "        list1=[2,3,\"assignment1\"]\n",
    "        \n",
    "    #Bollean\n",
    "    bollean data type is consits of two built in values True and False.In boolean datatype we can evaluate non-boolean objects \n",
    "    as well which determined as True and False.It is denoted by the class bool.\n",
    "     In python True and False must have capital 'T' and 'F' othrrwise it throws an error.\n",
    "        \n",
    "     EX:type(True)\n",
    "        bool(2<4)\n",
    "\n",
    "    \n",
    "\n",
    "        \n",
    "\n",
    "\n",
    "        \n",
    "\n",
    "\n",
    "    \n",
    "    \n",
    "    "
   ]
  },
  {
   "cell_type": "markdown",
   "metadata": {},
   "source": [
    "4. What makes up an expression? What are the functions of all expressions?\n",
    "\n",
    "\n",
    "sol:\n",
    "    Expressions are representations of value. They are different from statement in the fact that statements do something while \n",
    "    expressions are representation of value. For example any string is also an expressions since it represents the value of the \n",
    "    string as well.\n",
    "    Python has some advanced constructs through which you can represent values and hence these constructs are also called \n",
    "    expressions.\n",
    "    Anything that does something is a statement.Any assignment to a variable or function call is a statement. \n",
    "    Any value contained in that statement in an expression.\n",
    "    \n",
    "    Function is a combination of expression that which includes all the values and operators for the mathematical performance.    \n",
    "\n",
    "\n"
   ]
  },
  {
   "cell_type": "markdown",
   "metadata": {},
   "source": [
    "#5. In this chapter, assignment statements such as spam = 10 were added. What difference between a declaration and an expression?\n",
    "\n",
    "sol:\n",
    "    We have spam = 10,where spam is a variable and 10 is the value that assigned to the variable spam.\n",
    "    Here we declared the variable by assigning the value 10.So, it is called declaration.\n",
    "    An expression is a combination of declared variables which includes in the performance of operations. "
   ]
  },
  {
   "cell_type": "code",
   "execution_count": 44,
   "metadata": {},
   "outputs": [
    {
     "data": {
      "text/plain": [
       "20"
      ]
     },
     "execution_count": 44,
     "metadata": {},
     "output_type": "execute_result"
    }
   ],
   "source": [
    "spam=10\n",
    "spam #declaration\n",
    "\n",
    "#expression\n",
    "exp=spam+10\n",
    "exp\n"
   ]
  },
  {
   "cell_type": "code",
   "execution_count": 8,
   "metadata": {},
   "outputs": [
    {
     "data": {
      "text/plain": [
       "23"
      ]
     },
     "execution_count": 8,
     "metadata": {},
     "output_type": "execute_result"
    }
   ],
   "source": [
    "\"\"\"\n",
    "6. After running the following code, what does the variable bacon contain?\n",
    "bacon = 22\n",
    "bacon + 1  \n",
    "\"\"\"\n",
    "bacon=22\n",
    "bacon +1\n",
    "#after runnig this particular code we will get 23 as a output,because here we just added one to the bacon variable\n"
   ]
  },
  {
   "cell_type": "code",
   "execution_count": 9,
   "metadata": {},
   "outputs": [
    {
     "data": {
      "text/plain": [
       "22"
      ]
     },
     "execution_count": 9,
     "metadata": {},
     "output_type": "execute_result"
    }
   ],
   "source": [
    "#if we run the bacon variable again we will get 22\n",
    "bacon"
   ]
  },
  {
   "cell_type": "code",
   "execution_count": 13,
   "metadata": {},
   "outputs": [
    {
     "data": {
      "text/plain": [
       "'spamspamspam'"
      ]
     },
     "execution_count": 13,
     "metadata": {},
     "output_type": "execute_result"
    }
   ],
   "source": [
    "#7. What should the values of the following two terms be?\n",
    "\n",
    "'spam' + 'spamspam'\n",
    "#By running the above code we get addition of the strings i.e as fallows"
   ]
  },
  {
   "cell_type": "code",
   "execution_count": 15,
   "metadata": {},
   "outputs": [
    {
     "data": {
      "text/plain": [
       "'spamspamspam'"
      ]
     },
     "execution_count": 15,
     "metadata": {},
     "output_type": "execute_result"
    }
   ],
   "source": [
    "'spam' * 3\n",
    "#since it is a mulptiplication operation so,the string spam is multiplies 3 times "
   ]
  },
  {
   "cell_type": "markdown",
   "metadata": {},
   "source": [
    "8. Why is it that eggs is a true variable name but 100 is not?\n",
    "\n",
    "eggs is variable name which satisfies the rules to create a variable in python\n",
    "\n",
    "rules for creating a variable in python\n",
    "1.A variable name must be started with a letter or a underscore\n",
    "2.it should not start with a number\n",
    "3.A variable can only contain alpha-numeric characters and underscores(A-Z,0-9,-) and no special characters are entertained.\n",
    "\n",
    "So,As per the rules 100 is digit which should not start with.so it is not a variable.\n"
   ]
  },
  {
   "cell_type": "code",
   "execution_count": 45,
   "metadata": {},
   "outputs": [
    {
     "name": "stdout",
     "output_type": "stream",
     "text": [
      "integer to float: 3.0\n",
      "string to float: 34.0\n",
      "float point number to integer: 9\n"
     ]
    },
    {
     "data": {
      "text/plain": [
       "'6.5'"
      ]
     },
     "execution_count": 45,
     "metadata": {},
     "output_type": "execute_result"
    }
   ],
   "source": [
    "#9. Which of the following three functions may be used to convert a value to an integer, a floating-point number, or a string?\n",
    "\n",
    "#float() will convert a integer to a floating point number and\n",
    "\n",
    "print(\"integer to float:\", float(3))\n",
    "#float() will also convert a string which contains a integer into a floating point number.\n",
    "print(\"string to float:\", float(\"34\"))\n",
    "#int() will convert a floating point number to an integer\n",
    "print(\"float point number to integer:\", int(9.6))\n",
    "#srt() will convert a integer or floating point to a string\n",
    "a=2\n",
    "str(a)\n",
    "b=6.5\n",
    "str(b)\n",
    "\n",
    "\n"
   ]
  },
  {
   "cell_type": "code",
   "execution_count": 46,
   "metadata": {},
   "outputs": [
    {
     "ename": "TypeError",
     "evalue": "can only concatenate str (not \"int\") to str",
     "output_type": "error",
     "traceback": [
      "\u001b[1;31m---------------------------------------------------------------------------\u001b[0m",
      "\u001b[1;31mTypeError\u001b[0m                                 Traceback (most recent call last)",
      "\u001b[1;32m<ipython-input-46-9fa0082da23d>\u001b[0m in \u001b[0;36m<module>\u001b[1;34m\u001b[0m\n\u001b[0;32m      1\u001b[0m \u001b[1;31m#10. What is the error caused by this expression? What would you do about it?\u001b[0m\u001b[1;33m\u001b[0m\u001b[1;33m\u001b[0m\u001b[1;33m\u001b[0m\u001b[0m\n\u001b[0;32m      2\u001b[0m \u001b[1;33m\u001b[0m\u001b[0m\n\u001b[1;32m----> 3\u001b[1;33m \u001b[1;34m'I have eaten'\u001b[0m \u001b[1;33m+\u001b[0m \u001b[1;36m99\u001b[0m \u001b[1;33m+\u001b[0m \u001b[1;34m'burritos'\u001b[0m\u001b[1;33m\u001b[0m\u001b[1;33m\u001b[0m\u001b[0m\n\u001b[0m\u001b[0;32m      4\u001b[0m \u001b[1;31m#it is clear that  we can't able to concatenate both the strings and integers.\u001b[0m\u001b[1;33m\u001b[0m\u001b[1;33m\u001b[0m\u001b[1;33m\u001b[0m\u001b[0m\n",
      "\u001b[1;31mTypeError\u001b[0m: can only concatenate str (not \"int\") to str"
     ]
    }
   ],
   "source": [
    "#10. What is the error caused by this expression? What would you do about it?\n",
    "\n",
    "'I have eaten' + 99 + 'burritos'\n",
    "#it is clear that  we can't able to concatenate both the strings and integers."
   ]
  },
  {
   "cell_type": "code",
   "execution_count": 43,
   "metadata": {},
   "outputs": [
    {
     "data": {
      "text/plain": [
       "'I have eaten99burritos'"
      ]
     },
     "execution_count": 43,
     "metadata": {},
     "output_type": "execute_result"
    }
   ],
   "source": [
    "#if we include that 99 in \" \"(quote),then it converts into string\n",
    "\n",
    "'I have eaten' + '99' + 'burritos'"
   ]
  },
  {
   "cell_type": "code",
   "execution_count": null,
   "metadata": {},
   "outputs": [],
   "source": []
  }
 ],
 "metadata": {
  "kernelspec": {
   "display_name": "Python 3",
   "language": "python",
   "name": "python3"
  },
  "language_info": {
   "codemirror_mode": {
    "name": "ipython",
    "version": 3
   },
   "file_extension": ".py",
   "mimetype": "text/x-python",
   "name": "python",
   "nbconvert_exporter": "python",
   "pygments_lexer": "ipython3",
   "version": "3.8.5"
  }
 },
 "nbformat": 4,
 "nbformat_minor": 4
}
