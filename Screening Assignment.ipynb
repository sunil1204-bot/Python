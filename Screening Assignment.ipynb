{
 "cells": [
  {
   "cell_type": "code",
   "execution_count": 1,
   "metadata": {},
   "outputs": [
    {
     "data": {
      "text/plain": [
       "'C:\\\\Users\\\\sunilkumar c'"
      ]
     },
     "execution_count": 1,
     "metadata": {},
     "output_type": "execute_result"
    }
   ],
   "source": [
    "pwd\n"
   ]
  },
  {
   "cell_type": "code",
   "execution_count": 2,
   "metadata": {},
   "outputs": [],
   "source": [
    "import os"
   ]
  },
  {
   "cell_type": "code",
   "execution_count": 3,
   "metadata": {},
   "outputs": [],
   "source": [
    "path='E:\\documents\\I NEURON\\PYTHON'"
   ]
  },
  {
   "cell_type": "code",
   "execution_count": 4,
   "metadata": {},
   "outputs": [],
   "source": [
    "file='example.txt'"
   ]
  },
  {
   "cell_type": "code",
   "execution_count": 5,
   "metadata": {},
   "outputs": [],
   "source": [
    "with open(os.path.join(path,file),'w') as fd:\n",
    "    pass"
   ]
  },
  {
   "cell_type": "code",
   "execution_count": 11,
   "metadata": {},
   "outputs": [],
   "source": [
    "with open(r'example.txt','w') as op:\n",
    "    op.write('This is a Placement Assignment')\n"
   ]
  },
  {
   "cell_type": "code",
   "execution_count": 8,
   "metadata": {},
   "outputs": [],
   "source": [
    "with open(r'example.txt','r') as file:\n",
    "    search_text='Placement'\n",
    "    replace_text='Screening'\n",
    "    data=file.read()\n",
    "    data=data.replace(search_text,replace_text)\n",
    "    "
   ]
  },
  {
   "cell_type": "code",
   "execution_count": 10,
   "metadata": {},
   "outputs": [],
   "source": [
    "with open(r'example.txt','w') as f:\n",
    "          f.write(data)"
   ]
  },
  {
   "cell_type": "code",
   "execution_count": null,
   "metadata": {},
   "outputs": [],
   "source": []
  },
  {
   "cell_type": "code",
   "execution_count": 5,
   "metadata": {},
   "outputs": [
    {
     "name": "stdout",
     "output_type": "stream",
     "text": [
      "multi_task\n",
      "Name: iNeuron\n",
      "Contact us at  https://ineuron.ai/\n"
     ]
    },
    {
     "data": {
      "text/plain": [
       "'Windows OS'"
      ]
     },
     "execution_count": 5,
     "metadata": {},
     "output_type": "execute_result"
    }
   ],
   "source": [
    "#Multiple Inheritance\n",
    " \n",
    "# Multiple inheritence\n",
    "class Ineuron:\n",
    "    company_website = 'https://ineuron.ai/'\n",
    "    name = 'iNeuron'\n",
    " \n",
    "    def contact_details(self):\n",
    "        print('Contact us at ', self.company_website)\n",
    "        \n",
    "class OS:\n",
    "    multi_task = True\n",
    "    os_name = 'Windows OS'\n",
    " \n",
    " \n",
    "class windows(OS, Ineuron):\n",
    "    def __init__(self):\n",
    "        if self.multi_task is True:\n",
    "            print('multi_task')\n",
    "        print('Name: {}'.format(self.name))\n",
    " \n",
    " \n",
    "windows = windows()\n",
    "windows.contact_details()\n",
    "windows.os_name"
   ]
  },
  {
   "cell_type": "code",
   "execution_count": 6,
   "metadata": {},
   "outputs": [],
   "source": [
    "class r1():\n",
    "    def Python(self):\n",
    "        print(\"python makes ur life ease\")\n",
    "class r2(r1):\n",
    "    def BI(Python):\n",
    "        print(\"Tableu and Power BI are most popular tools for Visulization\")\n",
    "class r3(r1):\n",
    "    def EDA(self):\n",
    "        print(\"EDA plays key role before Visualization\")\n",
    "        "
   ]
  },
  {
   "cell_type": "code",
   "execution_count": 7,
   "metadata": {},
   "outputs": [],
   "source": [
    "class r4(r2,r3):\n",
    "    def S1(self):\n",
    "        pass"
   ]
  },
  {
   "cell_type": "code",
   "execution_count": 8,
   "metadata": {},
   "outputs": [],
   "source": [
    "o1=r4()"
   ]
  },
  {
   "cell_type": "code",
   "execution_count": 9,
   "metadata": {},
   "outputs": [
    {
     "name": "stdout",
     "output_type": "stream",
     "text": [
      "python makes ur life ease\n"
     ]
    }
   ],
   "source": [
    "o1.Python()"
   ]
  },
  {
   "cell_type": "markdown",
   "metadata": {},
   "source": [
    " \n",
    "\n",
    "Abstract Class is combination of Abstract Methods and these methods have declaration but not implimentation\n",
    "\n",
    "\n",
    "#_ single underscore is to protect the variable and __ double underscore is to make it private\n",
    "\n",
    "#to accesss the private we can use _(single underscore)\n",
    " \n",
    " "
   ]
  },
  {
   "cell_type": "code",
   "execution_count": 12,
   "metadata": {},
   "outputs": [],
   "source": [
    "\n",
    "class Company():\n",
    "    def __init__(a,Name,Location,Year_of_Estd):\n",
    "        a._Name=Name\n",
    "        a._Location=Location\n",
    "        a._Year_of_Estd=Year_of_Estd\n",
    "    def Year(self,c_year):\n",
    "        self._c_year - Year_of_Estd\n",
    "    def __str__(self):\n",
    "        return \"%s was located in %s and ESTD in %d\" \\\n",
    "                %(self._Name,self._Location,self._Year_of_Estd)\n",
    "        "
   ]
  },
  {
   "cell_type": "code",
   "execution_count": 13,
   "metadata": {},
   "outputs": [],
   "source": [
    "#ent is a Object that the class intialised to.\n",
    "\n",
    "ent=Company('Ineuron','Banglore',2019)"
   ]
  },
  {
   "cell_type": "code",
   "execution_count": 14,
   "metadata": {},
   "outputs": [
    {
     "data": {
      "text/plain": [
       "'Ineuron was located in Banglore and ESTD in 2019'"
      ]
     },
     "execution_count": 14,
     "metadata": {},
     "output_type": "execute_result"
    }
   ],
   "source": [
    "ent.__str__()"
   ]
  },
  {
   "cell_type": "code",
   "execution_count": null,
   "metadata": {},
   "outputs": [],
   "source": []
  }
 ],
 "metadata": {
  "kernelspec": {
   "display_name": "Python 3",
   "language": "python",
   "name": "python3"
  },
  "language_info": {
   "codemirror_mode": {
    "name": "ipython",
    "version": 3
   },
   "file_extension": ".py",
   "mimetype": "text/x-python",
   "name": "python",
   "nbconvert_exporter": "python",
   "pygments_lexer": "ipython3",
   "version": "3.8.5"
  }
 },
 "nbformat": 4,
 "nbformat_minor": 4
}
