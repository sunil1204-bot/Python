{
 "cells": [
  {
   "cell_type": "code",
   "execution_count": 7,
   "metadata": {},
   "outputs": [
    {
     "name": "stdout",
     "output_type": "stream",
     "text": [
      "1\n",
      "2\n",
      "3\n",
      "4\n",
      "5\n",
      "6\n",
      "7\n",
      "8\n",
      "9\n",
      "10\n"
     ]
    }
   ],
   "source": [
    "i=1\n",
    "while(i<=10):\n",
    "    print(i)\n",
    "    i+=1"
   ]
  },
  {
   "cell_type": "markdown",
   "metadata": {},
   "source": [
    "\n",
    "1. What are the Boolean data types two values? How do you go about writing them?\n",
    "\n",
    "True and False are the two values in Boolean data types.\n",
    "\n",
    "we should write these values starting with caps(True and False) otherwise complier throws an error.\n",
    "\n",
    "bool is the short form of representation of the type of boolean data type\n",
    "\n",
    "\n",
    "\n"
   ]
  },
  {
   "cell_type": "code",
   "execution_count": 8,
   "metadata": {},
   "outputs": [
    {
     "data": {
      "text/plain": [
       "False"
      ]
     },
     "execution_count": 8,
     "metadata": {},
     "output_type": "execute_result"
    }
   ],
   "source": [
    "type(True)\n",
    "\n",
    "#3<4\n",
    "\n",
    "not 1\n"
   ]
  },
  {
   "cell_type": "markdown",
   "metadata": {},
   "source": [
    "2. What are the three different types of Boolean operators?\n",
    "\n",
    "Ans:\n",
    "    Types of Boolean operators\n",
    "    The logical operators and,or  and  not are the operators of boolean.Where and,or need two operands to perform the operation\n",
    "    weather it is True or False.\n",
    "    \n",
    "    not operators requires only one operand."
   ]
  },
  {
   "cell_type": "code",
   "execution_count": 9,
   "metadata": {},
   "outputs": [
    {
     "data": {
      "text/plain": [
       "False"
      ]
     },
     "execution_count": 9,
     "metadata": {},
     "output_type": "execute_result"
    }
   ],
   "source": [
    "#EX:\n",
    "1 and 0 #and operator\n",
    "1 or 0  #or operator\n",
    "not 1   #not operator"
   ]
  },
  {
   "cell_type": "code",
   "execution_count": 10,
   "metadata": {},
   "outputs": [
    {
     "data": {
      "text/plain": [
       "True"
      ]
     },
     "execution_count": 10,
     "metadata": {},
     "output_type": "execute_result"
    }
   ],
   "source": [
    "#3. Make a list of each Boolean operators truth tables (i.e. every possible combination of Boolean\n",
    "#values for the operator and what it evaluate ).\n",
    "\n",
    "0 and 0     #=0\n",
    "0 and 1     #=0\n",
    "1 and 0     #=0\n",
    "1 and 1     #=1\n",
    "\n",
    "0 or 0      #=0\n",
    "0 or 1      #=1\n",
    "1 or 0      #=1\n",
    "1 or 1      #=1\n",
    "\n",
    "\n",
    "not 1        #=0\n",
    "not 0        #=1\n",
    "#where False(0) and True(1)"
   ]
  },
  {
   "cell_type": "code",
   "execution_count": 11,
   "metadata": {},
   "outputs": [
    {
     "data": {
      "text/plain": [
       "True"
      ]
     },
     "execution_count": 11,
     "metadata": {},
     "output_type": "execute_result"
    }
   ],
   "source": [
    "#4. What are the values of the following expressions?\n",
    "\n",
    "(5 & 4) and (3 == 5)\n",
    "not (5 & 4)\n",
    "(5 & 4) or (3 == 5)\n",
    "not ((5 & 4) or (3 == 5))\n",
    "(True and True) and (True == False)\n",
    "(not False) or (not True)"
   ]
  },
  {
   "cell_type": "code",
   "execution_count": 12,
   "metadata": {},
   "outputs": [
    {
     "data": {
      "text/plain": [
       "False"
      ]
     },
     "execution_count": 12,
     "metadata": {},
     "output_type": "execute_result"
    }
   ],
   "source": [
    "(5 & 4) and (3 == 5)"
   ]
  },
  {
   "cell_type": "code",
   "execution_count": 13,
   "metadata": {},
   "outputs": [
    {
     "data": {
      "text/plain": [
       "False"
      ]
     },
     "execution_count": 13,
     "metadata": {},
     "output_type": "execute_result"
    }
   ],
   "source": [
    "not (5 & 4)"
   ]
  },
  {
   "cell_type": "code",
   "execution_count": 14,
   "metadata": {},
   "outputs": [
    {
     "data": {
      "text/plain": [
       "4"
      ]
     },
     "execution_count": 14,
     "metadata": {},
     "output_type": "execute_result"
    }
   ],
   "source": [
    "(5 & 4) or (3 == 5)\n"
   ]
  },
  {
   "cell_type": "code",
   "execution_count": 15,
   "metadata": {},
   "outputs": [
    {
     "data": {
      "text/plain": [
       "False"
      ]
     },
     "execution_count": 15,
     "metadata": {},
     "output_type": "execute_result"
    }
   ],
   "source": [
    "not ((5 & 4) or (3 == 5))"
   ]
  },
  {
   "cell_type": "code",
   "execution_count": 16,
   "metadata": {},
   "outputs": [
    {
     "data": {
      "text/plain": [
       "False"
      ]
     },
     "execution_count": 16,
     "metadata": {},
     "output_type": "execute_result"
    }
   ],
   "source": [
    "(True and True) and (True == False)"
   ]
  },
  {
   "cell_type": "code",
   "execution_count": 17,
   "metadata": {},
   "outputs": [
    {
     "data": {
      "text/plain": [
       "True"
      ]
     },
     "execution_count": 17,
     "metadata": {},
     "output_type": "execute_result"
    }
   ],
   "source": [
    "(not False) or (not True)"
   ]
  },
  {
   "cell_type": "code",
   "execution_count": 18,
   "metadata": {},
   "outputs": [
    {
     "data": {
      "text/plain": [
       "False"
      ]
     },
     "execution_count": 18,
     "metadata": {},
     "output_type": "execute_result"
    }
   ],
   "source": [
    "#5. What are the six different types of reference operators?\n",
    "#The referece operators are ==,>=,<=,!=,<,> are the reference operators.\n",
    "#  ==(equality operator)\n",
    "1==0"
   ]
  },
  {
   "cell_type": "code",
   "execution_count": 19,
   "metadata": {},
   "outputs": [
    {
     "data": {
      "text/plain": [
       "False"
      ]
     },
     "execution_count": 19,
     "metadata": {},
     "output_type": "execute_result"
    }
   ],
   "source": [
    "#  >=(greater than equal to)\n",
    "1>=9"
   ]
  },
  {
   "cell_type": "code",
   "execution_count": 20,
   "metadata": {},
   "outputs": [
    {
     "data": {
      "text/plain": [
       "True"
      ]
     },
     "execution_count": 20,
     "metadata": {},
     "output_type": "execute_result"
    }
   ],
   "source": [
    "# <=(lessthan or equal to)\n",
    "4<=4"
   ]
  },
  {
   "cell_type": "code",
   "execution_count": 21,
   "metadata": {},
   "outputs": [
    {
     "data": {
      "text/plain": [
       "True"
      ]
     },
     "execution_count": 21,
     "metadata": {},
     "output_type": "execute_result"
    }
   ],
   "source": [
    "# !=(not equal to)\n",
    "6!=9"
   ]
  },
  {
   "cell_type": "code",
   "execution_count": 22,
   "metadata": {},
   "outputs": [
    {
     "data": {
      "text/plain": [
       "False"
      ]
     },
     "execution_count": 22,
     "metadata": {},
     "output_type": "execute_result"
    }
   ],
   "source": [
    "# <(lessthan)\n",
    "3<1"
   ]
  },
  {
   "cell_type": "code",
   "execution_count": 23,
   "metadata": {},
   "outputs": [
    {
     "data": {
      "text/plain": [
       "True"
      ]
     },
     "execution_count": 23,
     "metadata": {},
     "output_type": "execute_result"
    }
   ],
   "source": [
    "# >(greater than)\n",
    "6>1"
   ]
  },
  {
   "cell_type": "markdown",
   "metadata": {},
   "source": [
    "6. How do you tell the difference between the equal to and assignment operators?\n",
    "ans:Equal to operator is represents with a symbol \"==\"\" and it is use to comapare weather to values are equal or not.\n",
    "    Ex:1==0(here we are comparing the values weather they are equal or not.)\n",
    "        \n",
    "    Assignment operator is represents with a symbol \"=\".It is used to assign a value for particular variable\n",
    "    EX:A=12(here we are assigning 12 for the variable A)\n",
    "    "
   ]
  },
  {
   "cell_type": "code",
   "execution_count": 7,
   "metadata": {},
   "outputs": [
    {
     "name": "stdout",
     "output_type": "stream",
     "text": [
      "enter you salary46000\n",
      "Employee is a Experianced person\n"
     ]
    }
   ],
   "source": [
    "#7. Describe a condition and when you would use one.\n",
    "#if condition:\n",
    "#Decision making is required when we want to execute a code only if a certain condition is satisfied.\n",
    "\n",
    "#The if…elif…else statement is used in Python for decision making.\n",
    "\n",
    "salary=int(input(\"enter you salary\"))\n",
    "if salary<=15000:\n",
    "    print(\"Employee is in intern\")\n",
    "elif salary<=45000:\n",
    "    print(\"Employee is in intermediate level\")\n",
    "else:\n",
    "    print(\"Employee is a Experianced person\")"
   ]
  },
  {
   "cell_type": "code",
   "execution_count": 24,
   "metadata": {},
   "outputs": [
    {
     "name": "stdout",
     "output_type": "stream",
     "text": [
      "ham\n",
      "spam\n",
      "spam\n"
     ]
    }
   ],
   "source": [
    "#8. Recognize the following three blocks in this code:\n",
    "\n",
    "spam = 0\n",
    "if spam == 10:\n",
    "    print('eggs')\n",
    "\n",
    "if spam == 5:\n",
    "    print('bacon')\n",
    "else:\n",
    "    print('ham')\n",
    "    print('spam')\n",
    "    print('spam')\n",
    "\n",
    "    #In the above code value of spam is not valid as per the assigned value in both if conditions so,it get into else loop."
   ]
  },
  {
   "cell_type": "code",
   "execution_count": 25,
   "metadata": {},
   "outputs": [
    {
     "name": "stdout",
     "output_type": "stream",
     "text": [
      "enter your value 3\n",
      "Salutations!\n"
     ]
    }
   ],
   "source": [
    "#9. Create a programme that prints. If 1 is stored in spam, prints Hello; if 2 is stored in spam, prints\n",
    "#Howdy; and if 3 is stored in spam, prints Salutations! if theres something else in spam.\n",
    "\n",
    "spam=int(input(\"enter your value \"))\n",
    "if(spam==1):\n",
    "    print('Hello')\n",
    "elif(spam==2):\n",
    "    print('Howdy')\n",
    "elif(spam==3):\n",
    "    print('Salutations!')\n",
    "else:\n",
    "    print('something else')\n",
    "    \n",
    "#This is code which satifies the given statement in question"
   ]
  },
  {
   "cell_type": "code",
   "execution_count": null,
   "metadata": {},
   "outputs": [],
   "source": [
    "10.If your programme is stuck in an endless loop, what keys can you press?\n",
    "\n",
    "An infinite loop occurs when a program keeps executing within one loop, never leaving it.\n",
    "To exit out of infinite loops on the command line, press CTRL + C.\n"
   ]
  },
  {
   "cell_type": "code",
   "execution_count": 6,
   "metadata": {},
   "outputs": [
    {
     "name": "stdout",
     "output_type": "stream",
     "text": [
      "its my speed\n",
      "its my speed\n",
      "its my speed\n",
      "its my speed\n"
     ]
    }
   ],
   "source": [
    "#11. How can you tell the difference between break and continue?\n",
    "\n",
    "#Break statements exist in Python to exit or “break” a for or while conditional loop. When the loop ends, \n",
    "#the code picks up from and executes the next line immediately following the loop that was broken.\n",
    "\n",
    "initial_speed=0\n",
    "final_speed=120\n",
    "count=1\n",
    "while(initial_speed < final_speed):\n",
    "    print(\"its my speed\")\n",
    "    count=count +1\n",
    "    if count==5:\n",
    "        break"
   ]
  },
  {
   "cell_type": "code",
   "execution_count": null,
   "metadata": {},
   "outputs": [],
   "source": [
    "#The continue statement is used to skip code within a loop for certain iterations of the loop.\n",
    "#After the code is skipped, the loop continues where it left off.\n",
    "initial_speed=0\n",
    "final_speed=120\n",
    "count=1\n",
    "while(initial_speed < final_speed):\n",
    "    print(\"its my speed\")\n",
    "    count=count +1\n",
    "    if count==5:\n",
    "        continue\n"
   ]
  },
  {
   "cell_type": "code",
   "execution_count": 5,
   "metadata": {},
   "outputs": [
    {
     "name": "stdout",
     "output_type": "stream",
     "text": [
      "0\n",
      "1\n",
      "2\n",
      "3\n",
      "4\n",
      "5\n",
      "6\n",
      "7\n",
      "8\n",
      "9\n"
     ]
    }
   ],
   "source": [
    "#12. In a for loop, what is the difference between range(10), range(0, 10), and range(0, 10, 1)?\n",
    "for i in range(10):\n",
    "    print(i)\n",
    "#this will gives the numbers from 0 t0 9 with the range of 10 excluding the value 10"
   ]
  },
  {
   "cell_type": "code",
   "execution_count": 4,
   "metadata": {},
   "outputs": [
    {
     "name": "stdout",
     "output_type": "stream",
     "text": [
      "0\n",
      "1\n",
      "2\n",
      "3\n",
      "4\n",
      "5\n",
      "6\n",
      "7\n",
      "8\n",
      "9\n"
     ]
    }
   ],
   "source": [
    "for i in range(0,10):\n",
    "    print(i)\n",
    "#this will gives the numbers from 0 t0 9 with the range of 10 excluding the value 10\\,same as previous one,but it will starts\n",
    "#from value 0.if we give 1 in the place of 0.it will gives output starting from 1."
   ]
  },
  {
   "cell_type": "code",
   "execution_count": 3,
   "metadata": {},
   "outputs": [
    {
     "name": "stdout",
     "output_type": "stream",
     "text": [
      "0\n",
      "1\n",
      "2\n",
      "3\n",
      "4\n",
      "5\n",
      "6\n",
      "7\n",
      "8\n",
      "9\n"
     ]
    }
   ],
   "source": [
    "for i in range(0,10,1):\n",
    "    print(i)\n",
    "#this will gives the numbers from 0 t0 9 with the range of 10 excluding the value 10,but here 1 indicates the interval\n",
    "#of the range"
   ]
  },
  {
   "cell_type": "code",
   "execution_count": 2,
   "metadata": {},
   "outputs": [
    {
     "name": "stdout",
     "output_type": "stream",
     "text": [
      "1\n",
      "2\n",
      "3\n",
      "4\n",
      "5\n",
      "6\n",
      "7\n",
      "8\n",
      "9\n",
      "10\n"
     ]
    }
   ],
   "source": [
    "#13. Using a for loop, write a short programme that prints the numbers 1 to 10 Then, using a while\n",
    "#loop, create an identical programme that prints the numbers 1 to 10.\n",
    "\n",
    "for i in range(1,11):\n",
    "    print(i)\n",
    "  "
   ]
  },
  {
   "cell_type": "code",
   "execution_count": 1,
   "metadata": {},
   "outputs": [
    {
     "name": "stdout",
     "output_type": "stream",
     "text": [
      "1\n",
      "2\n",
      "3\n",
      "4\n",
      "5\n",
      "6\n",
      "7\n",
      "8\n",
      "9\n",
      "10\n"
     ]
    }
   ],
   "source": [
    "i=1\n",
    "while(i<=10):\n",
    "    print(i)\n",
    "    i+=1"
   ]
  },
  {
   "cell_type": "markdown",
   "metadata": {},
   "source": [
    "#14. If you had a bacon() function within a spam module, how would you call it after importing spam?\n",
    "\n",
    "We use modules to break down large programs into small manageable and organized files.\n",
    "Furthermore, modules provide reusability of code.\n",
    "\n",
    "We can define our most used functions in a module and import it, instead of copying their definitions into different programs.\n",
    "\n",
    "Let us create a module. Type the following and save it as spam.py.\n",
    "\n",
    "def bacon(a,b):\n",
    "    result=a+b\n",
    "    return result\n",
    "\n",
    "Here, we have defined a function bacon() inside a module named spam.\n",
    "The function takes in two numbers and returns their sum.\n",
    "\n",
    "now we can import a module.\n",
    " import spam\n",
    "    spam.bacon(1,2)\n",
    "    "
   ]
  },
  {
   "cell_type": "code",
   "execution_count": null,
   "metadata": {},
   "outputs": [],
   "source": []
  }
 ],
 "metadata": {
  "kernelspec": {
   "display_name": "Python 3",
   "language": "python",
   "name": "python3"
  },
  "language_info": {
   "codemirror_mode": {
    "name": "ipython",
    "version": 3
   },
   "file_extension": ".py",
   "mimetype": "text/x-python",
   "name": "python",
   "nbconvert_exporter": "python",
   "pygments_lexer": "ipython3",
   "version": "3.8.5"
  }
 },
 "nbformat": 4,
 "nbformat_minor": 4
}
